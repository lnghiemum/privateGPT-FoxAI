{
 "cells": [
  {
   "cell_type": "markdown",
   "id": "9986a143",
   "metadata": {},
   "source": ""
  },
  {
   "cell_type": "code",
   "id": "4b29d6a7",
   "metadata": {
    "ExecuteTime": {
     "end_time": "2025-02-18T03:40:34.532190Z",
     "start_time": "2025-02-18T03:40:34.529244Z"
    }
   },
   "source": [
    "import os\n",
    "import sys"
   ],
   "outputs": [],
   "execution_count": 20
  },
  {
   "cell_type": "code",
   "id": "1d34cd6b",
   "metadata": {
    "ExecuteTime": {
     "end_time": "2025-02-18T03:40:50.457821Z",
     "start_time": "2025-02-18T03:40:34.553052Z"
    }
   },
   "source": [
    "import openai\n",
    "from langchain.chains import ConversationalRetrievalChain, RetrievalQA\n",
    "from langchain_openai import ChatOpenAI\n",
    "from langchain_community.document_loaders import DirectoryLoader, CSVLoader, PyPDFLoader\n",
    "from langchain_community.document_loaders.image import UnstructuredImageLoader\n",
    "from langchain_openai import OpenAIEmbeddings\n",
    "from langchain_community.embeddings.sentence_transformer import SentenceTransformerEmbeddings\n",
    "from langchain.indexes import VectorstoreIndexCreator\n",
    "from langchain.indexes.vectorstore import VectorStoreIndexWrapper\n",
    "from langchain_community.llms import OpenAI\n",
    "from langchain_community.vectorstores import Chroma\n",
    "from langchain.chains.conversation.memory import ConversationBufferMemory\n",
    "from langchain_text_splitters import CharacterTextSplitter"
   ],
   "outputs": [],
   "execution_count": 21
  },
  {
   "cell_type": "code",
   "id": "94815600",
   "metadata": {
    "lines_to_next_cell": 2,
    "ExecuteTime": {
     "end_time": "2025-02-18T03:40:50.460723Z",
     "start_time": "2025-02-18T03:40:34.566395Z"
    }
   },
   "source": [
    "import constants\n",
    "import warnings\n",
    "import os"
   ],
   "outputs": [],
   "execution_count": 22
  },
  {
   "cell_type": "code",
   "id": "ca319ac2",
   "metadata": {
    "ExecuteTime": {
     "end_time": "2025-02-18T03:40:34.583139Z",
     "start_time": "2025-02-18T03:40:34.579500Z"
    }
   },
   "source": [
    "os.chdir(\"/Users/hngh7483/Dropbox/FoxAI/chatgpt\")\n",
    "os.environ[\"OPENAI_API_KEY\"] = constants.APIKEY"
   ],
   "outputs": [],
   "execution_count": 23
  },
  {
   "cell_type": "code",
   "id": "ded037d6",
   "metadata": {
    "lines_to_next_cell": 1,
    "ExecuteTime": {
     "end_time": "2025-02-18T03:40:34.599378Z",
     "start_time": "2025-02-18T03:40:34.596955Z"
    }
   },
   "source": [
    "loaders = {\n",
    "    '.pdf': PyPDFLoader,\n",
    "    '.csv': CSVLoader,\n",
    "}"
   ],
   "outputs": [],
   "execution_count": 24
  },
  {
   "cell_type": "code",
   "id": "43d5a5a3",
   "metadata": {
    "ExecuteTime": {
     "end_time": "2025-02-18T03:40:34.617719Z",
     "start_time": "2025-02-18T03:40:34.612952Z"
    }
   },
   "source": [
    "def create_directory_loader(file_type, directory_path):\n",
    "    return DirectoryLoader(\n",
    "        path=directory_path,\n",
    "        glob=f\"**/*{file_type}\",\n",
    "        loader_cls=loaders[file_type],\n",
    "        loader_kwargs={\"extract_images\": False}\n",
    "    )"
   ],
   "outputs": [],
   "execution_count": 25
  },
  {
   "cell_type": "code",
   "id": "c1c75dcb",
   "metadata": {
    "ExecuteTime": {
     "end_time": "2025-02-18T03:40:34.635604Z",
     "start_time": "2025-02-18T03:40:34.632259Z"
    }
   },
   "source": [
    "\n",
    "# Enable to save to disk & reuse the model (for repeated queries on the same data)\n",
    "PERSIST = False\n",
    "query = None\n",
    "if len(sys.argv) > 1:\n",
    "  query = sys.argv[1]"
   ],
   "outputs": [],
   "execution_count": 26
  },
  {
   "cell_type": "code",
   "id": "3cf50503",
   "metadata": {
    "lines_to_next_cell": 2,
    "ExecuteTime": {
     "end_time": "2025-02-18T03:40:45.596182Z",
     "start_time": "2025-02-18T03:40:34.650109Z"
    }
   },
   "source": [
    "if PERSIST and os.path.exists(\"persist\"):\n",
    "  print(\"Reusing index...\\n\")\n",
    "  vectorstore = Chroma(persist_directory=\"persist\", embedding_function=OpenAIEmbeddings())\n",
    "  index = VectorStoreIndexWrapper(vectorstore=vectorstore)\n",
    "else:\n",
    "  loader = create_directory_loader('.pdf', '/Users/hngh7483/Dropbox/FoxAI/chatgpt/data/pdf')\n",
    "  #csv_loader = create_directory_loader('.csv', '/Users/hngh7483/Dropbox/chatgpt/data/csv')\n",
    "  if PERSIST:\n",
    "    index = VectorstoreIndexCreator(vectorstore_kwargs={\"persist_directory\":\"persist\"}).from_loaders([loader])\n",
    "  else:\n",
    "    #index = VectorstoreIndexCreator().from_loaders([loader])\n",
    "    text_splitter = CharacterTextSplitter(chunk_size=1000, chunk_overlap=0)\n",
    "    docs = text_splitter.split_documents(loader.load_and_split())\n",
    "    # load it into Chroma\n",
    "    db = Chroma.from_documents(docs, OpenAIEmbeddings())\n",
    "    index = VectorStoreIndexWrapper(vectorstore=db)"
   ],
   "outputs": [
    {
     "name": "stderr",
     "output_type": "stream",
     "text": [
      "Ignoring wrong pointing object 6 0 (offset 0)\n",
      "Ignoring wrong pointing object 14 0 (offset 0)\n",
      "Ignoring wrong pointing object 22 0 (offset 0)\n",
      "Ignoring wrong pointing object 24 0 (offset 0)\n",
      "Ignoring wrong pointing object 105 0 (offset 0)\n",
      "Ignoring wrong pointing object 260 0 (offset 0)\n",
      "Ignoring wrong pointing object 739 0 (offset 0)\n",
      "Ignoring wrong pointing object 1550 0 (offset 0)\n",
      "Ignoring wrong pointing object 1624 0 (offset 0)\n"
     ]
    }
   ],
   "execution_count": 27
  },
  {
   "metadata": {
    "ExecuteTime": {
     "end_time": "2025-02-18T03:40:45.611958Z",
     "start_time": "2025-02-18T03:40:45.608885Z"
    }
   },
   "cell_type": "code",
   "source": [
    "print(index)\n",
    "print(db.embeddings)"
   ],
   "id": "501ba07b6e4cd77d",
   "outputs": [
    {
     "name": "stdout",
     "output_type": "stream",
     "text": [
      "vectorstore=<langchain_community.vectorstores.chroma.Chroma object at 0x147c0d5b0>\n",
      "client=<openai.resources.embeddings.Embeddings object at 0x147c8b700> async_client=<openai.resources.embeddings.AsyncEmbeddings object at 0x14788a250> model='text-embedding-ada-002' dimensions=None deployment='text-embedding-ada-002' openai_api_version=None openai_api_base=None openai_api_type=None openai_proxy=None embedding_ctx_length=8191 openai_api_key=SecretStr('**********') openai_organization=None allowed_special=None disallowed_special=None chunk_size=1000 max_retries=2 request_timeout=None headers=None tiktoken_enabled=True tiktoken_model_name=None show_progress_bar=False model_kwargs={} skip_empty=False default_headers=None default_query=None retry_min_seconds=4 retry_max_seconds=20 http_client=None http_async_client=None check_embedding_ctx_length=True\n"
     ]
    }
   ],
   "execution_count": 28
  },
  {
   "cell_type": "code",
   "id": "2ff3d58f",
   "metadata": {
    "ExecuteTime": {
     "end_time": "2025-02-18T03:40:45.628918Z",
     "start_time": "2025-02-18T03:40:45.625710Z"
    }
   },
   "source": [
    "memory = ConversationBufferMemory(\n",
    "    memory_key='chat_history', return_messages=True, output_key='answer')"
   ],
   "outputs": [],
   "execution_count": 29
  },
  {
   "cell_type": "code",
   "id": "453296cd",
   "metadata": {
    "ExecuteTime": {
     "end_time": "2025-02-18T03:40:45.692881Z",
     "start_time": "2025-02-18T03:40:45.640786Z"
    }
   },
   "source": [
    "chain = ConversationalRetrievalChain.from_llm(\n",
    "        llm=ChatOpenAI(model=\"gpt-4o\"),\n",
    "        retriever=index.vectorstore.as_retriever(search_kwargs={\"k\": 2 }),\n",
    "        return_source_documents=True,\n",
    "        return_generated_question=True,\n",
    "        memory=memory)"
   ],
   "outputs": [],
   "execution_count": 30
  },
  {
   "metadata": {},
   "cell_type": "markdown",
   "source": "**Câu hỏi trong local document**",
   "id": "e4d57c52996d3b29"
  },
  {
   "cell_type": "code",
   "id": "b64dc8a2",
   "metadata": {
    "ExecuteTime": {
     "end_time": "2025-02-20T07:14:11.774852Z",
     "start_time": "2025-02-20T07:14:04.871986Z"
    }
   },
   "source": [
    "chat_history = []\n",
    "query = \"cách tạo mới master item\"\n",
    "#while True:\n",
    "  #if not query:\n",
    "   # query = input(\"Prompt: \")\n",
    "  #if query in ['quit', 'q', 'exit']:\n",
    "  #  sys.exit()\n",
    "result = chain({\"question\": query, \"chat_history\": chat_history})\n",
    "chat_history.append((query, result[\"answer\"]))\n",
    "\n",
    "print(result['answer'])"
   ],
   "outputs": [
    {
     "name": "stdout",
     "output_type": "stream",
     "text": [
      "Để tạo một mục mới trong master item, người dùng cần điền các thông tin cần thiết sau:\n",
      "\n",
      "1. **Mã hàng hóa**: \n",
      "   - Có hai lựa chọn để đặt mã hàng hóa:\n",
      "     - **Item**: Chương trình sẽ tự động tạo mã vật tư theo số mặc định tăng dần; người dùng không có quyền can thiệp.\n",
      "     - **Manual**: Người dùng có thể gõ mã hàng hóa theo ý muốn.\n",
      "\n",
      "2. **Tên hàng hóa**: Miêu tả tên của item hoặc hàng hóa.\n",
      "\n",
      "3. **Item type**: Chọn loại hình của hàng hóa, với các lựa chọn: items, labor, và travel.\n",
      "\n",
      "4. **Item Group**: Lựa chọn nhóm Item. Nhóm của Item đã được định nghĩa trước và việc thiết lập các thông số như phương pháp lập kế hoạch mua hàng, nguồn cung ứng, số lượng tối thiểu, thời gian hàng về kho, phương pháp mặc định giá, và các tài khoản kế toán sử dụng cho các nghiệp vụ được mặc định theo nhóm Item này.\n",
      "\n",
      "Thực hiện theo các bước trên sẽ giúp người dùng tạo một mục mới trong master item.\n"
     ]
    }
   ],
   "execution_count": 42
  },
  {
   "metadata": {},
   "cell_type": "markdown",
   "source": "**Ví dụ về câu hỏi kiến thức chung**",
   "id": "e5c745be1943de"
  },
  {
   "metadata": {
    "ExecuteTime": {
     "end_time": "2025-02-20T07:14:22.628795Z",
     "start_time": "2025-02-20T07:14:15.907681Z"
    }
   },
   "cell_type": "code",
   "source": [
    "query = \"các công cụ phân tích tài chính cơ bản\"\n",
    "result = chain({\"question\": query, \"chat_history\": chat_history})\n",
    "chat_history.append((query, result[\"answer\"]))\n",
    "print(result['answer'])\n",
    "\n"
   ],
   "id": "c3908dcc6cb61808",
   "outputs": [
    {
     "name": "stdout",
     "output_type": "stream",
     "text": [
      "Tôi không có thông tin cụ thể về các công cụ phân tích tài chính từ tài liệu hiện có. Tuy nhiên, một số công cụ phân tích tài chính cơ bản thường bao gồm:\n",
      "\n",
      "1. **Phân tích tỷ lệ (Ratio Analysis)**: Dùng để đánh giá tình hình tài chính của một công ty thông qua các tỷ lệ tài chính như tỷ lệ thanh khoản, tỷ lệ đòn bẩy, tỷ lệ sinh lời, và tỷ lệ hoạt động.\n",
      "\n",
      "2. **Phân tích xu hướng (Trend Analysis)**: Theo dõi sự thay đổi trong dữ liệu tài chính qua các kỳ để dự đoán xu hướng tương lai.\n",
      "\n",
      "3. **Dự báo tài chính (Financial Forecasting)**: Dự đoán hiệu quả tài chính trong tương lai dựa trên dữ liệu lịch sử.\n",
      "\n",
      "4. **Phân tích dòng tiền (Cash Flow Analysis)**: Đánh giá dòng tiền vào và ra để quản lý dòng tiền hiệu quả nhằm đảm bảo khả năng thanh khoản.\n",
      "\n",
      "5. **Phân tích điểm hòa vốn (Break-even Analysis)**: Xác định mức doanh thu cần thiết để trang trải tất cả các chi phí trong doanh nghiệp.\n",
      "\n",
      "Để có thông tin chi tiết hơn hoặc cụ thể về các công cụ phân tích tài chính khác, bạn có thể tham khảo thêm từ các nguồn tài liệu chuyên ngành hoặc trang web uy tín.\n"
     ]
    }
   ],
   "execution_count": 43
  }
 ],
 "metadata": {
  "jupytext": {
   "cell_metadata_filter": "-all",
   "main_language": "python",
   "notebook_metadata_filter": "-all"
  },
  "kernelspec": {
   "name": "python3",
   "language": "python",
   "display_name": "Python 3 (ipykernel)"
  }
 },
 "nbformat": 4,
 "nbformat_minor": 5
}
